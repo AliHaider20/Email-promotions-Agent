{
 "cells": [
  {
   "cell_type": "code",
   "execution_count": 1,
   "id": "a9f7a604",
   "metadata": {},
   "outputs": [],
   "source": [
    "EMAIL_ACCOUNT = \"Haiderratlamwala786@gmail.com\"\n",
    "PASSWORD = \"datascientist\"\n",
    "APP_PASSWORD = \"jrdc taqi pkqo fqrx\"\n",
    "IMAP_SERVER = \"imap.gmail.com\""
   ]
  },
  {
   "cell_type": "code",
   "execution_count": null,
   "id": "7dbc99b2",
   "metadata": {},
   "outputs": [
    {
     "ename": "ModuleNotFoundError",
     "evalue": "No module named 'imap_tools'",
     "output_type": "error",
     "traceback": [
      "\u001b[0;31m---------------------------------------------------------------------------\u001b[0m",
      "\u001b[0;31mModuleNotFoundError\u001b[0m                       Traceback (most recent call last)",
      "Cell \u001b[0;32mIn[2], line 1\u001b[0m\n\u001b[0;32m----> 1\u001b[0m \u001b[38;5;28;01mfrom\u001b[39;00m \u001b[38;5;21;01mimap_tools\u001b[39;00m \u001b[38;5;28;01mimport\u001b[39;00m MailBox\n",
      "\u001b[0;31mModuleNotFoundError\u001b[0m: No module named 'imap_tools'"
     ]
    }
   ],
   "source": [
    "# from imap_tools import MailBox\n",
    "import "
   ]
  },
  {
   "cell_type": "code",
   "execution_count": null,
   "id": "0353ac77",
   "metadata": {},
   "outputs": [],
   "source": [
    "def list_mailboxes(mail):\n",
    "    status, mailboxes = mail.list()\n",
    "    if status == 'OK':\n",
    "        print(\"\\nAvailable Mailboxes:\")\n",
    "        for mbox in mailboxes:\n",
    "            print(mbox.decode())\n",
    "            \n",
    "primary_mail = imaplib.IMAP4_SSL(IMAP_SERVER)\n",
    "primary_mail.login(EMAIL_ACCOUNT, APP_PASSWORD)\n",
    "list_mailboxes(primary_mail)"
   ]
  },
  {
   "cell_type": "code",
   "execution_count": null,
   "id": "87e1edff",
   "metadata": {},
   "outputs": [],
   "source": [
    "import imaplib\n",
    "import email\n",
    "from email.header import decode_header\n",
    "\n",
    "def connect_to_mailbox(mailbox_name):\n",
    "    \"\"\"Login and select the desired mailbox.\"\"\"\n",
    "    mail = imaplib.IMAP4_SSL(IMAP_SERVER)\n",
    "    mail.login(EMAIL_ACCOUNT, APP_PASSWORD)\n",
    "    mail.select(mailbox_name)\n",
    "    return mail\n",
    "\n",
    "def fetch_last_n_emails(mail, n=50):\n",
    "    \"\"\"Fetch last N email headers from the selected mailbox.\"\"\"\n",
    "    status, messages = mail.search(None, 'ALL')\n",
    "    if status != 'OK':\n",
    "        print(\"Failed to fetch emails.\")\n",
    "        return []\n",
    "\n",
    "    email_ids = messages[0].split()\n",
    "    last_n_ids = email_ids[-n:]\n",
    "\n",
    "    emails = []\n",
    "    for uid in reversed(last_n_ids):\n",
    "        status, data = mail.fetch(uid, '(BODY.PEEK[HEADER])')\n",
    "        if status != 'OK':\n",
    "            continue\n",
    "\n",
    "        raw_email = data[0][1]\n",
    "        msg = email.message_from_bytes(raw_email)\n",
    "\n",
    "        # Decode Subject\n",
    "        subject, encoding = decode_header(msg[\"Subject\"])[0]\n",
    "        if isinstance(subject, bytes):\n",
    "            subject = subject.decode(encoding if encoding else 'utf-8', errors='ignore')\n",
    "\n",
    "        from_ = msg.get(\"From\")\n",
    "        emails.append({'from': from_, 'subject': subject})\n",
    "    return emails\n",
    "\n",
    "def display_emails(emails, section_name):\n",
    "    \"\"\"Pretty print the fetched emails.\"\"\"\n",
    "    print(f\"\\n=== {section_name.upper()} SECTION ===\")\n",
    "    for email_data in emails:\n",
    "        print(f\"From: {email_data['from']}\")\n",
    "        print(f\"Subject: {email_data['subject']}\")\n",
    "        print(\"-\" * 40)\n",
    "\n",
    "def main():\n",
    "    # Fetch from Primary\n",
    "    primary_mail = connect_to_mailbox('INBOX')\n",
    "    primary_emails = fetch_last_n_emails(primary_mail, n=50)\n",
    "    display_emails(primary_emails, section_name=\"Primary\")\n",
    "    primary_mail.logout()\n",
    "\n",
    "    # Fetch from Promotions (use correct label from your mailbox list)\n",
    "    promotions_mail = connect_to_mailbox('PROMOTIONAL')  # Try 'CATEGORY_PROMOTIONS' if this fails\n",
    "    promotions_emails = fetch_last_n_emails(promotions_mail, n=50)\n",
    "    display_emails(promotions_emails, section_name=\"Promotions\")\n",
    "    promotions_mail.logout()\n",
    "\n",
    "if __name__ == '__main__':\n",
    "    main()"
   ]
  },
  {
   "cell_type": "code",
   "execution_count": null,
   "id": "4f49e45c",
   "metadata": {},
   "outputs": [],
   "source": [
    "import imaplib\n",
    "import email\n",
    "from email.header import decode_header\n",
    "import webbrowser\n",
    "import os\n",
    "\n",
    "# account credentials\n",
    "username = \"Haiderratlamwala786@gmail.com\"\n",
    "password = \"datascientist\"\n",
    "# use your email provider's IMAP server, you can look for your provider's IMAP server on Google\n",
    "# or check this page: https://www.systoolsgroup.com/imap/\n",
    "# for office 365, it's this:\n",
    "imap_server = \"gmail.com\"\n",
    "\n",
    "def clean(text):\n",
    "    # clean text for creating a folder\n",
    "    return \"\".join(c if c.isalnum() else \"_\" for c in text)\n",
    "# create an IMAP4 class with SSL \n",
    "imap = imaplib.IMAP4_SSL(imap_server)\n",
    "# authenticate\n",
    "imap.login(username, password)\n",
    "\n",
    "status, messages = imap.select(\"INBOX\")\n",
    "# number of top emails to fetch\n",
    "N = 3\n",
    "# total number of emails\n",
    "messages = int(messages[0])"
   ]
  },
  {
   "cell_type": "code",
   "execution_count": null,
   "id": "761fa03e",
   "metadata": {},
   "outputs": [],
   "source": [
    "api_code = \"jrdc taqi pkqo fqrx\"\n",
    "\n",
    "import imaplib\n",
    "\n",
    "\n",
    "def get_mail_client(email_address):\n",
    "    SMTP_SERVER = \"gmail.com\"\n",
    "    SMTP_PORT = 993\n",
    "\n",
    "    mail = imaplib.IMAP4_SSL(SMTP_SERVER)\n",
    "    mail.login(email_address, password=api_code)\n",
    "    return mail\n",
    "\n",
    "mail = get_mail_client(email_address=\"Haiderratlamwala786@gmail.com\")\n",
    "mail\n"
   ]
  },
  {
   "cell_type": "code",
   "execution_count": null,
   "id": "5368d9b8",
   "metadata": {},
   "outputs": [],
   "source": [
    "inbox = mail.select('INBOX')\n",
    "# for x in inbox:\n",
    "#     print(x)\n",
    "#     break\n",
    "int(inbox[1][0])"
   ]
  },
  {
   "cell_type": "code",
   "execution_count": null,
   "id": "4de02ef9",
   "metadata": {},
   "outputs": [],
   "source": [
    "def get_top_10_emails(category):\n",
    "    # category can be 'Promotional, Updates or Forums\n",
    "    # returns tuple\n",
    "    select_status, select_response = mail.select('INBOX')\n",
    "    status, response = select_response[0].uid('search', 'X-GM-RAW \"category:' + category + '\"')\n",
    "\n",
    "    # get email ids list\n",
    "    response = response[0].decode('utf-8').split()\n",
    "    response.reverse()\n",
    "    response = response[:min(10, len(response))]\n",
    "    return response\n",
    "\n",
    "get_top_10_emails('Promotional')"
   ]
  },
  {
   "cell_type": "code",
   "execution_count": null,
   "id": "3bc80c70",
   "metadata": {},
   "outputs": [],
   "source": []
  }
 ],
 "metadata": {
  "kernelspec": {
   "display_name": "Python 3",
   "language": "python",
   "name": "python3"
  },
  "language_info": {
   "codemirror_mode": {
    "name": "ipython",
    "version": 3
   },
   "file_extension": ".py",
   "mimetype": "text/x-python",
   "name": "python",
   "nbconvert_exporter": "python",
   "pygments_lexer": "ipython3",
   "version": "3.11.8"
  }
 },
 "nbformat": 4,
 "nbformat_minor": 5
}
